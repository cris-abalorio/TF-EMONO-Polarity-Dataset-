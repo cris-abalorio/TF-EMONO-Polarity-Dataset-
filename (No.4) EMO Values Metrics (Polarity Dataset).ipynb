{
 "cells": [
  {
   "cell_type": "code",
   "execution_count": null,
   "id": "54a60c10",
   "metadata": {},
   "outputs": [],
   "source": [
    "import numpy as np\n",
    "from sklearn.model_selection import train_test_split\n",
    "\n",
    "# 500 Features MONO\n",
    "a = np.load(\"TF_Modified_EMO_4_EMO_2_500_Features.npy\")\n",
    "#X = np.concatenate((a[1:][:],a[1:2][:]), axis=0)\n",
    "X = a[:-1]\n",
    "\n",
    "X.shape\n",
    "\n",
    "# 'reuters21578 _enc.txt' class label or y of 7125 rows \n",
    "y=np.genfromtxt('class_label.txt', delimiter=',', dtype='int32', skip_header=1)\n",
    "\n",
    "X_train, X_test, y_train, y_test = train_test_split(X, y, test_size=0.33, random_state=42)\n",
    "\n",
    "\n",
    "\n",
    "\n",
    "from sklearn.neighbors import KNeighborsClassifier\n",
    "neigh = KNeighborsClassifier(n_neighbors=5)\n",
    "neigh.fit(X_train,y_train)\n",
    "\n",
    "pred_y = neigh.predict(X_test)\n",
    "sum(pred_y == y_test)/y_test.shape\n",
    "\n",
    "from sklearn.metrics import f1_score\n",
    "from sklearn.metrics import accuracy_score\n",
    "\n",
    "print(\"Accuracy: {}\".format(accuracy_score(y_test, pred_y)))\n",
    "print(\"micro F1: {}\".format(f1_score(y_test, pred_y, average='micro')))\n",
    "print(\"macro F1: {}\".format(f1_score(y_test, pred_y, average='macro')))\n",
    "print(\"weighted F1: {}\".format(f1_score(y_test, pred_y, average='weighted')))\n",
    "\n",
    "\n",
    "\n"
   ]
  }
 ],
 "metadata": {
  "kernelspec": {
   "display_name": "Python 3 (ipykernel)",
   "language": "python",
   "name": "python3"
  },
  "language_info": {
   "codemirror_mode": {
    "name": "ipython",
    "version": 3
   },
   "file_extension": ".py",
   "mimetype": "text/x-python",
   "name": "python",
   "nbconvert_exporter": "python",
   "pygments_lexer": "ipython3",
   "version": "3.7.5"
  }
 },
 "nbformat": 4,
 "nbformat_minor": 5
}
