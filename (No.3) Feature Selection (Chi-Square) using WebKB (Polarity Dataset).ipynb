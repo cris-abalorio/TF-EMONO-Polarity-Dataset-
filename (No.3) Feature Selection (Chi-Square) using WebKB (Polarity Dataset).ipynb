{
 "cells": [
  {
   "cell_type": "markdown",
   "id": "b07fb45a",
   "metadata": {},
   "source": [
    "# 1. Load the bulk .npy files and concatenate into single array "
   ]
  },
  {
   "cell_type": "code",
   "execution_count": 1,
   "id": "f200f4fc",
   "metadata": {},
   "outputs": [
    {
     "data": {
      "text/plain": [
       "0.0"
      ]
     },
     "execution_count": 1,
     "metadata": {},
     "output_type": "execute_result"
    }
   ],
   "source": [
    "from sklearn.model_selection import train_test_split\n",
    "# For TF MONO Ratio Only (enhanced)\n",
    "\n",
    "import numpy as np\n",
    "\n",
    "#a = np.load(\"Modified_EMO_6_FULL_VALUES.npy\")\n",
    "a = np.load(\"Modified_EMO_4_FULL_VALUES.npy\")\n",
    "\n",
    "X = a[:-1]\n",
    "X.shape\n",
    "X[0][0]"
   ]
  },
  {
   "cell_type": "raw",
   "id": "a8fce52d",
   "metadata": {},
   "source": [
    "# For TF MONO  Only (orig)\n",
    "import numpy as np\n",
    "\n",
    "a = np.load(\"12418_SingleFile_float_16_correctTF_MONO.npy\")\n",
    "X = a[1:]\n",
    "X.shape\n",
    "#X[0][0]"
   ]
  },
  {
   "cell_type": "markdown",
   "id": "96dca009",
   "metadata": {},
   "source": [
    "# 2. Load the class label file class_label.txt"
   ]
  },
  {
   "cell_type": "code",
   "execution_count": 2,
   "id": "a19d65ce",
   "metadata": {},
   "outputs": [],
   "source": [
    "# 'reuters21578 _enc.txt' class label or y of 7125 rows \n",
    "y=np.genfromtxt('class_label.txt', delimiter=',', dtype='int32', skip_header=1)\n",
    "X_train, X_test, y_train, y_test = train_test_split(X, y, test_size=0.33, random_state=42)\n",
    "\n"
   ]
  },
  {
   "cell_type": "markdown",
   "id": "01e252df",
   "metadata": {},
   "source": [
    "# 3. Load WebKB_version2.csv to obtain Features"
   ]
  },
  {
   "cell_type": "code",
   "execution_count": 3,
   "id": "72cdee93",
   "metadata": {},
   "outputs": [],
   "source": [
    "import numpy as np\n",
    "\n",
    "import pandas as pd\n",
    "data=pd.read_csv('WebKB_version2.csv')\n",
    "\n",
    "import nltk\n",
    "stopwords = nltk.corpus.stopwords.words('english')\n",
    "\n",
    "import string\n",
    "import re\n",
    "\n",
    "from nltk.stem import PorterStemmer\n",
    "ps = PorterStemmer()\n",
    "\n",
    "from math import *"
   ]
  },
  {
   "cell_type": "markdown",
   "id": "35111bbe",
   "metadata": {},
   "source": [
    "# 4. Pre-processing"
   ]
  },
  {
   "cell_type": "code",
   "execution_count": 4,
   "id": "f3038352",
   "metadata": {},
   "outputs": [],
   "source": [
    "#Pre-processing\n",
    "def clean_text(txt):\n",
    "    txt = \"\".join([c for c in txt if c not in string.punctuation])\n",
    "    tokens = re.split('\\W+',txt)\n",
    "    txt = [ps.stem(word) for word in tokens if word not in stopwords]\n",
    "    return txt"
   ]
  },
  {
   "cell_type": "markdown",
   "id": "0115b192",
   "metadata": {},
   "source": [
    "# 5. Generating Features"
   ]
  },
  {
   "cell_type": "code",
   "execution_count": 5,
   "id": "1dd5956c",
   "metadata": {},
   "outputs": [
    {
     "data": {
      "text/plain": [
       "(8324, 7708)"
      ]
     },
     "execution_count": 5,
     "metadata": {},
     "output_type": "execute_result"
    }
   ],
   "source": [
    "# Only simulate min_df = 0 for extracting 12418  features\n",
    "\n",
    "from sklearn.feature_extraction.text import CountVectorizer\n",
    "\n",
    "cv_vect = CountVectorizer(analyzer = clean_text, lowercase=True)\n",
    "#cv_vect = CountVectorizer(analyzer='word', encoding='utf-8', decode_error='strict', strip_accents=None, lowercase=True, preprocessor=None, tokenizer=None, stop_words='english', token_pattern='(?u)\\b\\w\\w+\\b', max_df=1.0, min_df=1, max_features=None, vocabulary=None, binary=False )\n",
    "\n",
    "XCV = cv_vect.fit(data['document'])\n",
    "X_CV = cv_vect.transform(data['document'])\n",
    "X_CV.shape"
   ]
  },
  {
   "cell_type": "code",
   "execution_count": 6,
   "id": "3d12a24b",
   "metadata": {},
   "outputs": [],
   "source": [
    "features = cv_vect.get_feature_names() #for 12418 "
   ]
  },
  {
   "cell_type": "code",
   "execution_count": 7,
   "id": "0523c9e1",
   "metadata": {},
   "outputs": [],
   "source": [
    "# tokenizing each row and transfering to row list\n",
    "row = data['document'].apply(lambda x: clean_text(x)) \n",
    "#row = cv_vect.inverse_transform(X_CV)"
   ]
  },
  {
   "cell_type": "code",
   "execution_count": 8,
   "id": "01353343",
   "metadata": {},
   "outputs": [],
   "source": [
    "# chi Square \n",
    "\n",
    "from sklearn.feature_selection import chi2\n",
    "f_p_values = chi2(X_train,y_train)\n",
    "\n",
    "p_values = pd.Series(f_p_values[0])\n",
    "p_values.index = features\n",
    "sorted_features = p_values.sort_values(ascending = True)"
   ]
  },
  {
   "cell_type": "code",
   "execution_count": 9,
   "id": "08a6d46c",
   "metadata": {},
   "outputs": [],
   "source": [
    "#f_p_values[0]"
   ]
  },
  {
   "cell_type": "code",
   "execution_count": 10,
   "id": "21511e67",
   "metadata": {},
   "outputs": [],
   "source": [
    "#f_p_values[1]"
   ]
  },
  {
   "cell_type": "markdown",
   "id": "05ce4365",
   "metadata": {},
   "source": [
    "#  Modify the Number of Features"
   ]
  },
  {
   "cell_type": "code",
   "execution_count": 11,
   "id": "cff7f6b5",
   "metadata": {},
   "outputs": [],
   "source": [
    "# Modify values for number of Features =  500, 1000, 2000, 3000, 4000, 5000 ... 10000\n",
    "\n",
    "num_features = 500"
   ]
  },
  {
   "cell_type": "code",
   "execution_count": 12,
   "id": "e45f44c1",
   "metadata": {},
   "outputs": [],
   "source": [
    "selected_features=sorted_features[0:num_features]"
   ]
  },
  {
   "cell_type": "code",
   "execution_count": 13,
   "id": "3316db76",
   "metadata": {},
   "outputs": [
    {
     "data": {
      "text/plain": [
       "Index(['cecilspec1', 'refman', 'latest', 'g221', 'vortex', 'bench', 'vortex1',\n",
       "       'languagepeopl', '2110', 'loadbalanc',\n",
       "       ...\n",
       "       'ctc', 'psfile', 'jpubl', 'robotgroup', 'robotcatchabst', 'jtoverview',\n",
       "       'jtsyllabusmw', 'jtsyllabusmwf', 'intercom', 'cs418sp94'],\n",
       "      dtype='object', length=500)"
      ]
     },
     "execution_count": 13,
     "metadata": {},
     "output_type": "execute_result"
    }
   ],
   "source": [
    "selected_features.index"
   ]
  },
  {
   "cell_type": "code",
   "execution_count": 14,
   "id": "f991766a",
   "metadata": {},
   "outputs": [
    {
     "data": {
      "text/plain": [
       "(7708,)"
      ]
     },
     "execution_count": 14,
     "metadata": {},
     "output_type": "execute_result"
    }
   ],
   "source": [
    "# For TF MONO Ratio Only:\n",
    "##################PostGlobalMONO = np.genfromtxt('GlobalMONO_Ratio_12418.txt', delimiter=',', dtype='float16') #for 12418 features\n",
    "\n",
    "# For TF MONO  Only:\n",
    "#PostGlobalMONO = np.genfromtxt('GlobalMONO_12418.txt', delimiter=',', dtype='float16') #for 12418 features\n",
    "\n",
    "# For TF MONO Ratio Distance H2 Only:\n",
    "#PostGlobalMONO = np.genfromtxt('Global_MONO_Distance_H2.txt', delimiter=',', dtype='float16') #for 12418 features\n",
    "\n",
    "# H3 ------ For TF MONO Ratio Distance H3 Only:\n",
    "#PostGlobalMONO = np.genfromtxt('Global_MONO_Distance_H3.txt', delimiter=',', dtype='float16') #for 12418 features\n",
    "\n",
    "# H4 ------ For TF MONO Ratio Distance H4 Only:\n",
    "#PostGlobalMONO = np.genfromtxt('Global_MONO_Distance_H4.txt', delimiter=',', dtype='float16') #for 12418 features\n",
    "\n",
    "\n",
    "\n",
    "#PostGlobalMONO = np.genfromtxt('Global_MONO_H1.txt', delimiter=',', dtype='float16') \n",
    "\n",
    "#EMO = 2\n",
    "PostGlobalMONO = np.genfromtxt('Modified_EMO_2.txt', delimiter=',', dtype='float16') \n",
    "\n",
    "\n",
    "PostGlobalMONO.shape"
   ]
  },
  {
   "cell_type": "code",
   "execution_count": 15,
   "id": "4b494874",
   "metadata": {},
   "outputs": [],
   "source": [
    "PostGlobalMONO = PostGlobalMONO.astype(\"float16\")"
   ]
  },
  {
   "cell_type": "code",
   "execution_count": 16,
   "id": "5a71c297",
   "metadata": {},
   "outputs": [],
   "source": [
    "# Creating a Data Frame for Global Mono from generated computing in excel containing 2 columns = features and 1 + GlobalMONO * 6.0\n",
    "df_PostGlobalMONO = pd.DataFrame(data={'Features': features, 'Global_Mono': PostGlobalMONO, 'p_values': p_values})"
   ]
  },
  {
   "cell_type": "code",
   "execution_count": 17,
   "id": "5f905940",
   "metadata": {},
   "outputs": [
    {
     "data": {
      "text/html": [
       "<div>\n",
       "<style scoped>\n",
       "    .dataframe tbody tr th:only-of-type {\n",
       "        vertical-align: middle;\n",
       "    }\n",
       "\n",
       "    .dataframe tbody tr th {\n",
       "        vertical-align: top;\n",
       "    }\n",
       "\n",
       "    .dataframe thead th {\n",
       "        text-align: right;\n",
       "    }\n",
       "</style>\n",
       "<table border=\"1\" class=\"dataframe\">\n",
       "  <thead>\n",
       "    <tr style=\"text-align: right;\">\n",
       "      <th></th>\n",
       "      <th>Features</th>\n",
       "      <th>Global_Mono</th>\n",
       "      <th>p_values</th>\n",
       "    </tr>\n",
       "  </thead>\n",
       "  <tbody>\n",
       "    <tr>\n",
       "      <th></th>\n",
       "      <td></td>\n",
       "      <td>1.000000</td>\n",
       "      <td>0.149626</td>\n",
       "    </tr>\n",
       "    <tr>\n",
       "      <th>0</th>\n",
       "      <td>0</td>\n",
       "      <td>2.541016</td>\n",
       "      <td>4.111511</td>\n",
       "    </tr>\n",
       "    <tr>\n",
       "      <th>0002</th>\n",
       "      <td>0002</td>\n",
       "      <td>1.006836</td>\n",
       "      <td>0.197850</td>\n",
       "    </tr>\n",
       "    <tr>\n",
       "      <th>001</th>\n",
       "      <td>001</td>\n",
       "      <td>1.057617</td>\n",
       "      <td>1.384979</td>\n",
       "    </tr>\n",
       "    <tr>\n",
       "      <th>002</th>\n",
       "      <td>002</td>\n",
       "      <td>1.000977</td>\n",
       "      <td>0.066484</td>\n",
       "    </tr>\n",
       "    <tr>\n",
       "      <th>...</th>\n",
       "      <td>...</td>\n",
       "      <td>...</td>\n",
       "      <td>...</td>\n",
       "    </tr>\n",
       "    <tr>\n",
       "      <th>zou</th>\n",
       "      <td>zou</td>\n",
       "      <td>1.000000</td>\n",
       "      <td>0.305628</td>\n",
       "    </tr>\n",
       "    <tr>\n",
       "      <th>zpl</th>\n",
       "      <td>zpl</td>\n",
       "      <td>1.000000</td>\n",
       "      <td>0.553498</td>\n",
       "    </tr>\n",
       "    <tr>\n",
       "      <th>zuelzk</th>\n",
       "      <td>zuelzk</td>\n",
       "      <td>1.000000</td>\n",
       "      <td>NaN</td>\n",
       "    </tr>\n",
       "    <tr>\n",
       "      <th>zymurgi</th>\n",
       "      <td>zymurgi</td>\n",
       "      <td>1.000000</td>\n",
       "      <td>0.099726</td>\n",
       "    </tr>\n",
       "    <tr>\n",
       "      <th>zzhen00</th>\n",
       "      <td>zzhen00</td>\n",
       "      <td>1.000000</td>\n",
       "      <td>0.361174</td>\n",
       "    </tr>\n",
       "  </tbody>\n",
       "</table>\n",
       "<p>7708 rows × 3 columns</p>\n",
       "</div>"
      ],
      "text/plain": [
       "        Features  Global_Mono  p_values\n",
       "                     1.000000  0.149626\n",
       "0              0     2.541016  4.111511\n",
       "0002        0002     1.006836  0.197850\n",
       "001          001     1.057617  1.384979\n",
       "002          002     1.000977  0.066484\n",
       "...          ...          ...       ...\n",
       "zou          zou     1.000000  0.305628\n",
       "zpl          zpl     1.000000  0.553498\n",
       "zuelzk    zuelzk     1.000000       NaN\n",
       "zymurgi  zymurgi     1.000000  0.099726\n",
       "zzhen00  zzhen00     1.000000  0.361174\n",
       "\n",
       "[7708 rows x 3 columns]"
      ]
     },
     "execution_count": 17,
     "metadata": {},
     "output_type": "execute_result"
    }
   ],
   "source": [
    "df_PostGlobalMONO"
   ]
  },
  {
   "cell_type": "code",
   "execution_count": 18,
   "id": "2ab01702",
   "metadata": {},
   "outputs": [
    {
     "data": {
      "text/plain": [
       "           0.149626\n",
       "0          4.111511\n",
       "0002       0.197850\n",
       "001        1.384979\n",
       "002        0.066484\n",
       "             ...   \n",
       "zou        0.305628\n",
       "zpl        0.553498\n",
       "zuelzk          NaN\n",
       "zymurgi    0.099726\n",
       "zzhen00    0.361174\n",
       "Length: 7708, dtype: float64"
      ]
     },
     "execution_count": 18,
     "metadata": {},
     "output_type": "execute_result"
    }
   ],
   "source": [
    "p_values"
   ]
  },
  {
   "cell_type": "code",
   "execution_count": 19,
   "id": "dcf26b77",
   "metadata": {},
   "outputs": [
    {
     "data": {
      "text/html": [
       "<div>\n",
       "<style scoped>\n",
       "    .dataframe tbody tr th:only-of-type {\n",
       "        vertical-align: middle;\n",
       "    }\n",
       "\n",
       "    .dataframe tbody tr th {\n",
       "        vertical-align: top;\n",
       "    }\n",
       "\n",
       "    .dataframe thead th {\n",
       "        text-align: right;\n",
       "    }\n",
       "</style>\n",
       "<table border=\"1\" class=\"dataframe\">\n",
       "  <thead>\n",
       "    <tr style=\"text-align: right;\">\n",
       "      <th></th>\n",
       "      <th>Features</th>\n",
       "      <th>Global_Mono</th>\n",
       "      <th>p_values</th>\n",
       "    </tr>\n",
       "  </thead>\n",
       "  <tbody>\n",
       "    <tr>\n",
       "      <th>project</th>\n",
       "      <td>project</td>\n",
       "      <td>6.804688</td>\n",
       "      <td>2319.523283</td>\n",
       "    </tr>\n",
       "    <tr>\n",
       "      <th>depart</th>\n",
       "      <td>depart</td>\n",
       "      <td>6.976562</td>\n",
       "      <td>492.564761</td>\n",
       "    </tr>\n",
       "    <tr>\n",
       "      <th>staff</th>\n",
       "      <td>staff</td>\n",
       "      <td>6.976562</td>\n",
       "      <td>477.609906</td>\n",
       "    </tr>\n",
       "    <tr>\n",
       "      <th>faculti</th>\n",
       "      <td>faculti</td>\n",
       "      <td>1.000000</td>\n",
       "      <td>406.595961</td>\n",
       "    </tr>\n",
       "    <tr>\n",
       "      <th>student</th>\n",
       "      <td>student</td>\n",
       "      <td>6.925781</td>\n",
       "      <td>366.664774</td>\n",
       "    </tr>\n",
       "    <tr>\n",
       "      <th>...</th>\n",
       "      <td>...</td>\n",
       "      <td>...</td>\n",
       "      <td>...</td>\n",
       "    </tr>\n",
       "    <tr>\n",
       "      <th>kmedwww</th>\n",
       "      <td>kmedwww</td>\n",
       "      <td>1.000000</td>\n",
       "      <td>1.426347</td>\n",
       "    </tr>\n",
       "    <tr>\n",
       "      <th>css</th>\n",
       "      <td>css</td>\n",
       "      <td>1.006836</td>\n",
       "      <td>1.426347</td>\n",
       "    </tr>\n",
       "    <tr>\n",
       "      <th>galileo</th>\n",
       "      <td>galileo</td>\n",
       "      <td>1.000000</td>\n",
       "      <td>1.426347</td>\n",
       "    </tr>\n",
       "    <tr>\n",
       "      <th>prolang</th>\n",
       "      <td>prolang</td>\n",
       "      <td>1.000000</td>\n",
       "      <td>1.426347</td>\n",
       "    </tr>\n",
       "    <tr>\n",
       "      <th>muster</th>\n",
       "      <td>muster</td>\n",
       "      <td>1.000000</td>\n",
       "      <td>1.426347</td>\n",
       "    </tr>\n",
       "  </tbody>\n",
       "</table>\n",
       "<p>500 rows × 3 columns</p>\n",
       "</div>"
      ],
      "text/plain": [
       "        Features  Global_Mono     p_values\n",
       "project  project     6.804688  2319.523283\n",
       "depart    depart     6.976562   492.564761\n",
       "staff      staff     6.976562   477.609906\n",
       "faculti  faculti     1.000000   406.595961\n",
       "student  student     6.925781   366.664774\n",
       "...          ...          ...          ...\n",
       "kmedwww  kmedwww     1.000000     1.426347\n",
       "css          css     1.006836     1.426347\n",
       "galileo  galileo     1.000000     1.426347\n",
       "prolang  prolang     1.000000     1.426347\n",
       "muster    muster     1.000000     1.426347\n",
       "\n",
       "[500 rows x 3 columns]"
      ]
     },
     "execution_count": 19,
     "metadata": {},
     "output_type": "execute_result"
    }
   ],
   "source": [
    "# displaying created dataframe\n",
    "filtered_df_PostGlobalMONO = df_PostGlobalMONO.sort_values(by = ['p_values'], ascending = False)\n",
    "res_df_PostGlobalMONO=filtered_df_PostGlobalMONO.head(num_features)\n",
    "res_df_PostGlobalMONO"
   ]
  },
  {
   "cell_type": "code",
   "execution_count": 20,
   "id": "829289fe",
   "metadata": {},
   "outputs": [
    {
     "data": {
      "text/plain": [
       "project    6.804688\n",
       "depart     6.976562\n",
       "staff      6.976562\n",
       "faculti    1.000000\n",
       "student    6.925781\n",
       "             ...   \n",
       "kmedwww    1.000000\n",
       "css        1.006836\n",
       "galileo    1.000000\n",
       "prolang    1.000000\n",
       "muster     1.000000\n",
       "Name: Global_Mono, Length: 500, dtype: float16"
      ]
     },
     "execution_count": 20,
     "metadata": {},
     "output_type": "execute_result"
    }
   ],
   "source": [
    "# Chi2 max Features 500, 1000, 2000, 3000, 4000, 5000 ... 10000\n",
    "chi2max_df_PostGlobalMONO = filtered_df_PostGlobalMONO['Global_Mono'][0:num_features]\n",
    "chi2max_df_PostGlobalMONO"
   ]
  },
  {
   "cell_type": "code",
   "execution_count": 21,
   "id": "e45d1700",
   "metadata": {},
   "outputs": [
    {
     "data": {
      "text/plain": [
       "Index(['project', 'depart', 'staff', 'faculti', 'student', 'cours', 'http',\n",
       "       'html', 'edu', 'misc',\n",
       "       ...\n",
       "       'gulf', 'gu', 'hpcd', 'cord', 'vivaldi', 'kmedwww', 'css', 'galileo',\n",
       "       'prolang', 'muster'],\n",
       "      dtype='object', length=500)"
      ]
     },
     "execution_count": 21,
     "metadata": {},
     "output_type": "execute_result"
    }
   ],
   "source": [
    "chi2max_df_PostGlobalMONO.index"
   ]
  },
  {
   "cell_type": "code",
   "execution_count": 22,
   "id": "2fe08ab4",
   "metadata": {},
   "outputs": [],
   "source": [
    "from math import *"
   ]
  },
  {
   "cell_type": "code",
   "execution_count": 23,
   "id": "47505c4a",
   "metadata": {},
   "outputs": [
    {
     "data": {
      "text/plain": [
       "(8324, 500)"
      ]
     },
     "execution_count": 23,
     "metadata": {},
     "output_type": "execute_result"
    }
   ],
   "source": [
    "temp = np.zeros((1,num_features), dtype=\"float16\")\n",
    "TF_MONO_TABLE = pd.DataFrame(np.zeros((1,num_features )))\n",
    "\n",
    "#limit = 8324\n",
    "# 6 minutes is 1k rows for 12418 features\n",
    "# 2 minutes is 1k rows for 500 features\n",
    "for i in range(0,8323):\n",
    "    for j in row[i]:\n",
    "        \n",
    "        tf = row[i].count(j) / len(row[i])\n",
    "        #print(tf)\n",
    "       \n",
    "        #print(\"tf OF {} = {} / {} = {}\".format(j,data['document'][i].count(j),len(row[i]),tf))\n",
    "        \n",
    "    \n",
    "        \n",
    "        index_of_term = np.where(res_df_PostGlobalMONO == j)\n",
    "        actual_index = index_of_term[0]\n",
    "        \n",
    "        # MONOfromDataFrame Represent the MONO in every row / document:\n",
    "        MONOfromDataFrame = res_df_PostGlobalMONO['Global_Mono'].iloc[actual_index]\n",
    "      \n",
    "        ###print(\"Actual index is {}\".format(actual_index))\n",
    "        \n",
    "        \n",
    "        \n",
    "         # A. TF MONO:\n",
    "        TF_MONO_result = tf * MONOfromDataFrame\n",
    "        \n",
    "        # B. Squared Root TF MONO:\n",
    "        #TF_MONO_result = sqrt(tf) * MONOfromDataFrame\n",
    "        \n",
    "        ###print(\"[Row {}] TF OF {} = {} / {} = {}\".format(i+1,j,row[i].count(j),len(row[i]),tf))\n",
    "        ###print(\"* Global MONO of \")\n",
    "        ###print(res_df_PostGlobalMONO['Features'].iloc[actual_index])\n",
    "        ###print(MONOfromDataFrame)\n",
    "        ###print(\"The result is {}\".format(TF_MONO_result))\n",
    "        ###print(\"------------------------------------------------------------\")\n",
    "        #print(j,tf, df_PostGlobalMONO['Global_Mono'].iloc[actual_index], TF_MONO_result)\n",
    "        \n",
    "        temp[0][actual_index] = TF_MONO_result\n",
    "        \n",
    "        # Coverting Temp Array into Data Frame\n",
    "#Modify here 6:\n",
    "    First_Result = pd.DataFrame(temp, columns = chi2max_df_PostGlobalMONO.index)\n",
    "    First_Result = First_Result.astype(\"float16\")\n",
    "    temp = np.zeros((1,num_features), dtype=\"float16\")\n",
    "    \n",
    "    TF_MONO_TABLE = np.append(TF_MONO_TABLE, np.array(First_Result), axis=0)\n",
    "    \n",
    "    First_Result.drop(First_Result.index[:], inplace=True)\n",
    "# appending another dataframe as another row\n",
    "\n",
    "#TF_MONO_TABLE2 = pd.DataFrame(np.ones((1,29523)))\n",
    "\n",
    "#Modify here 7:\n",
    "\n",
    "#TF_MONO_TABLE = pd.DataFrame(Second_Result, columns = features)   \n",
    "TF_MONO_TABLE.shape"
   ]
  },
  {
   "cell_type": "markdown",
   "id": "c1104dd5",
   "metadata": {},
   "source": [
    "# Export result as numpy"
   ]
  },
  {
   "cell_type": "code",
   "execution_count": 25,
   "id": "d316bca5",
   "metadata": {},
   "outputs": [],
   "source": [
    "TF_MONO_TABLE = TF_MONO_TABLE.astype(\"float16\")\n",
    "\n",
    "np.save(\"TF_Modified_EMO_4_EMO_2_500_Features.npy\",TF_MONO_TABLE)"
   ]
  },
  {
   "cell_type": "code",
   "execution_count": 26,
   "id": "f47f331d",
   "metadata": {},
   "outputs": [],
   "source": [
    "#pd.DataFrame(TF_MONO_TABLE, columns = chi2max_df_PostGlobalMONO.index)  "
   ]
  },
  {
   "cell_type": "markdown",
   "id": "c9b4015c",
   "metadata": {},
   "source": [
    "# Clear numpy array / Data Frame"
   ]
  },
  {
   "cell_type": "code",
   "execution_count": 27,
   "id": "ede0bb8c",
   "metadata": {},
   "outputs": [
    {
     "data": {
      "text/plain": [
       "(1, 500)"
      ]
     },
     "execution_count": 27,
     "metadata": {},
     "output_type": "execute_result"
    }
   ],
   "source": [
    "\n",
    "TF_MONO_TABLE = np.array([])\n",
    "\n",
    "#clear the array\n",
    "temp = np.zeros((1,num_features), dtype=\"float16\")\n",
    "temp.shape"
   ]
  },
  {
   "cell_type": "code",
   "execution_count": null,
   "id": "54b5bcbb",
   "metadata": {},
   "outputs": [],
   "source": []
  },
  {
   "cell_type": "code",
   "execution_count": null,
   "id": "ba49787e",
   "metadata": {},
   "outputs": [],
   "source": []
  },
  {
   "cell_type": "code",
   "execution_count": null,
   "id": "c6c8b4c4",
   "metadata": {},
   "outputs": [],
   "source": []
  },
  {
   "cell_type": "code",
   "execution_count": null,
   "id": "56dc7ef6",
   "metadata": {},
   "outputs": [],
   "source": []
  },
  {
   "cell_type": "code",
   "execution_count": null,
   "id": "27e6002c",
   "metadata": {},
   "outputs": [],
   "source": []
  }
 ],
 "metadata": {
  "kernelspec": {
   "display_name": "Python 3 (ipykernel)",
   "language": "python",
   "name": "python3"
  },
  "language_info": {
   "codemirror_mode": {
    "name": "ipython",
    "version": 3
   },
   "file_extension": ".py",
   "mimetype": "text/x-python",
   "name": "python",
   "nbconvert_exporter": "python",
   "pygments_lexer": "ipython3",
   "version": "3.7.5"
  }
 },
 "nbformat": 4,
 "nbformat_minor": 5
}
