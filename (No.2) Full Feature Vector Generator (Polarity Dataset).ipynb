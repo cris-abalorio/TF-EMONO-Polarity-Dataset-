{
 "cells": [
  {
   "cell_type": "markdown",
   "id": "f5437168",
   "metadata": {},
   "source": [
    "#### Libraries"
   ]
  },
  {
   "cell_type": "code",
   "execution_count": 16,
   "id": "76c6a5a4",
   "metadata": {},
   "outputs": [],
   "source": [
    "import numpy as np\n",
    "\n",
    "import pandas as pd\n",
    "data=pd.read_csv('WebKB_version2.csv')\n",
    "import nltk\n",
    "stopwords = nltk.corpus.stopwords.words('english')\n",
    "import string\n",
    "import re\n",
    "\n",
    "from nltk.stem import PorterStemmer\n",
    "ps = PorterStemmer()\n"
   ]
  },
  {
   "cell_type": "markdown",
   "id": "65665d88",
   "metadata": {},
   "source": [
    "### Step 1. Global Mono From extracted dataset computed excel"
   ]
  },
  {
   "cell_type": "code",
   "execution_count": 17,
   "id": "579f11dc",
   "metadata": {},
   "outputs": [
    {
     "data": {
      "text/plain": [
       "(7708,)"
      ]
     },
     "execution_count": 17,
     "metadata": {},
     "output_type": "execute_result"
    }
   ],
   "source": [
    "\n",
    "PostGlobalMONO = np.genfromtxt('Modified_EMO_3.txt', delimiter=',', dtype='float16') #for 12418 features\n",
    "\n",
    "PostGlobalMONO.shape"
   ]
  },
  {
   "cell_type": "code",
   "execution_count": 18,
   "id": "cea1ba42",
   "metadata": {},
   "outputs": [],
   "source": [
    "#Pre-processing\n",
    "def clean_text(txt):\n",
    "    txt = \"\".join([c for c in txt if c not in string.punctuation])\n",
    "    tokens = re.split('\\W+',txt)\n",
    "    txt = [ps.stem(word) for word in tokens if word not in stopwords]\n",
    "    return txt"
   ]
  },
  {
   "cell_type": "code",
   "execution_count": 19,
   "id": "f4c06227",
   "metadata": {},
   "outputs": [
    {
     "data": {
      "text/plain": [
       "(8324, 7708)"
      ]
     },
     "execution_count": 19,
     "metadata": {},
     "output_type": "execute_result"
    }
   ],
   "source": [
    "# Only simulate min_df = 2 for extracting 12418  features\n",
    "\n",
    "from sklearn.feature_extraction.text import CountVectorizer\n",
    "\n",
    "cv_vect = CountVectorizer( analyzer = clean_text, lowercase=True)\n",
    "#cv_vect = CountVectorizer(analyzer='word', encoding='utf-8', decode_error='strict', strip_accents=None, lowercase=True, preprocessor=None, tokenizer=None, stop_words='english', token_pattern='(?u)\\b\\w\\w+\\b', max_df=1.0, min_df=1, max_features=None, vocabulary=None, binary=False )\n",
    "\n",
    "XCV = cv_vect.fit(data['document'])\n",
    "X_CV = cv_vect.transform(data['document'])\n",
    "X_CV.shape\n"
   ]
  },
  {
   "cell_type": "code",
   "execution_count": 20,
   "id": "c5abb596",
   "metadata": {},
   "outputs": [],
   "source": [
    "# features = vect.get_feature_names()  ---> simulate for 29k features\n",
    "\n",
    "features = cv_vect.get_feature_names() #for 12418 "
   ]
  },
  {
   "cell_type": "code",
   "execution_count": 21,
   "id": "2ad48680",
   "metadata": {},
   "outputs": [],
   "source": [
    "# Return terms per document with nonzero entries in X.\n",
    "inv = cv_vect.inverse_transform(X_CV)"
   ]
  },
  {
   "cell_type": "code",
   "execution_count": 22,
   "id": "a04d0db0",
   "metadata": {},
   "outputs": [
    {
     "data": {
      "text/plain": [
       "array(['09', '2', 'cornel', 'cours', 'cs', 'cs414', 'cs415', 'current',\n",
       "       'edu', 'html', 'http', 'info', 'kb', 'webkb'], dtype='<U26')"
      ]
     },
     "execution_count": 22,
     "metadata": {},
     "output_type": "execute_result"
    }
   ],
   "source": [
    "inv[0]\n"
   ]
  },
  {
   "cell_type": "code",
   "execution_count": 23,
   "id": "eb2a97ae",
   "metadata": {},
   "outputs": [],
   "source": [
    "PostGlobalMONO = PostGlobalMONO.astype(\"float16\")"
   ]
  },
  {
   "cell_type": "code",
   "execution_count": 24,
   "id": "6725a759",
   "metadata": {},
   "outputs": [],
   "source": [
    "# Creating a Data Frame for Global Mono from generated computing in excel containing 2 columns = features and 1 + GlobalMONO * 6.0\n",
    "df_PostGlobalMONO = pd.DataFrame(data={'Features': features, 'Global_Mono': PostGlobalMONO})"
   ]
  },
  {
   "cell_type": "code",
   "execution_count": 25,
   "id": "76c86faa",
   "metadata": {},
   "outputs": [
    {
     "data": {
      "text/html": [
       "<div>\n",
       "<style scoped>\n",
       "    .dataframe tbody tr th:only-of-type {\n",
       "        vertical-align: middle;\n",
       "    }\n",
       "\n",
       "    .dataframe tbody tr th {\n",
       "        vertical-align: top;\n",
       "    }\n",
       "\n",
       "    .dataframe thead th {\n",
       "        text-align: right;\n",
       "    }\n",
       "</style>\n",
       "<table border=\"1\" class=\"dataframe\">\n",
       "  <thead>\n",
       "    <tr style=\"text-align: right;\">\n",
       "      <th></th>\n",
       "      <th>Features</th>\n",
       "      <th>Global_Mono</th>\n",
       "    </tr>\n",
       "  </thead>\n",
       "  <tbody>\n",
       "    <tr>\n",
       "      <th>0</th>\n",
       "      <td></td>\n",
       "      <td>1.000000</td>\n",
       "    </tr>\n",
       "    <tr>\n",
       "      <th>1</th>\n",
       "      <td>0</td>\n",
       "      <td>2.269531</td>\n",
       "    </tr>\n",
       "    <tr>\n",
       "      <th>2</th>\n",
       "      <td>0002</td>\n",
       "      <td>1.000000</td>\n",
       "    </tr>\n",
       "    <tr>\n",
       "      <th>3</th>\n",
       "      <td>001</td>\n",
       "      <td>1.000000</td>\n",
       "    </tr>\n",
       "    <tr>\n",
       "      <th>4</th>\n",
       "      <td>002</td>\n",
       "      <td>1.004883</td>\n",
       "    </tr>\n",
       "    <tr>\n",
       "      <th>...</th>\n",
       "      <td>...</td>\n",
       "      <td>...</td>\n",
       "    </tr>\n",
       "    <tr>\n",
       "      <th>7703</th>\n",
       "      <td>zou</td>\n",
       "      <td>1.000000</td>\n",
       "    </tr>\n",
       "    <tr>\n",
       "      <th>7704</th>\n",
       "      <td>zpl</td>\n",
       "      <td>1.000000</td>\n",
       "    </tr>\n",
       "    <tr>\n",
       "      <th>7705</th>\n",
       "      <td>zuelzk</td>\n",
       "      <td>1.000000</td>\n",
       "    </tr>\n",
       "    <tr>\n",
       "      <th>7706</th>\n",
       "      <td>zymurgi</td>\n",
       "      <td>1.000000</td>\n",
       "    </tr>\n",
       "    <tr>\n",
       "      <th>7707</th>\n",
       "      <td>zzhen00</td>\n",
       "      <td>1.000000</td>\n",
       "    </tr>\n",
       "  </tbody>\n",
       "</table>\n",
       "<p>7708 rows × 2 columns</p>\n",
       "</div>"
      ],
      "text/plain": [
       "     Features  Global_Mono\n",
       "0                 1.000000\n",
       "1           0     2.269531\n",
       "2        0002     1.000000\n",
       "3         001     1.000000\n",
       "4         002     1.004883\n",
       "...       ...          ...\n",
       "7703      zou     1.000000\n",
       "7704      zpl     1.000000\n",
       "7705   zuelzk     1.000000\n",
       "7706  zymurgi     1.000000\n",
       "7707  zzhen00     1.000000\n",
       "\n",
       "[7708 rows x 2 columns]"
      ]
     },
     "execution_count": 25,
     "metadata": {},
     "output_type": "execute_result"
    }
   ],
   "source": [
    "# displaying created dataframe\n",
    "df_PostGlobalMONO"
   ]
  },
  {
   "cell_type": "code",
   "execution_count": 26,
   "id": "2aecee67",
   "metadata": {},
   "outputs": [],
   "source": [
    "# tokenizing each row and transfering to row list\n",
    "row = data['document'].apply(lambda x: clean_text(x)) \n",
    "#row = cv_vect.inverse_transform(X_CV)"
   ]
  },
  {
   "cell_type": "code",
   "execution_count": 27,
   "id": "2bd8f499",
   "metadata": {},
   "outputs": [
    {
     "data": {
      "text/plain": [
       "['webkb',\n",
       " 'cours',\n",
       " 'cornel',\n",
       " 'http',\n",
       " 'cs',\n",
       " 'cornel',\n",
       " 'edu',\n",
       " 'info',\n",
       " 'cours',\n",
       " 'current',\n",
       " 'cs415',\n",
       " 'cs414',\n",
       " 'html',\n",
       " '2',\n",
       " '09',\n",
       " 'kb']"
      ]
     },
     "execution_count": 27,
     "metadata": {},
     "output_type": "execute_result"
    }
   ],
   "source": [
    "row[0]"
   ]
  },
  {
   "cell_type": "markdown",
   "id": "6868a5e3",
   "metadata": {},
   "source": [
    "# Auto Loop for  AVE (Generating TF AVE(MO)NO 12418 Feature Vectors) in 7512 rows"
   ]
  },
  {
   "cell_type": "code",
   "execution_count": 28,
   "id": "7e55cec3",
   "metadata": {},
   "outputs": [
    {
     "data": {
      "text/plain": [
       "(8324, 7708)"
      ]
     },
     "execution_count": 28,
     "metadata": {},
     "output_type": "execute_result"
    }
   ],
   "source": [
    "temp = np.zeros((1,7708), dtype=\"float16\")\n",
    "TF_MONO_TABLE = pd.DataFrame(np.zeros((1,7708 )))\n",
    "\n",
    "#limit = 8324\n",
    "#6 minutes is 1k rows\n",
    "for i in range(0,8323):\n",
    "    for j in row[i]:\n",
    "        \n",
    "        tf = row[i].count(j) / len(row[i])\n",
    "        #print(tf)\n",
    "       \n",
    "        #print(\"tf OF {} = {} / {} = {}\".format(j,data['document'][i].count(j),len(row[i]),tf))\n",
    "        \n",
    "    \n",
    "        \n",
    "        index_of_term = np.where(df_PostGlobalMONO == j)\n",
    "        actual_index = index_of_term[0]\n",
    "        \n",
    "        # MONOfromDataFrame Represent the MONO in every row / document:\n",
    "        MONOfromDataFrame = df_PostGlobalMONO['Global_Mono'].iloc[actual_index]\n",
    "      \n",
    "    \n",
    "        TF_MONO_result = tf * MONOfromDataFrame\n",
    "        #print(\"[Row {}] TF OF {} = {} / {} = {}\".format(i+1,j,row[i].count(j),len(row[i]),tf))\n",
    "        #print(\"* Global MONO of \")\n",
    "        #print(df_PostGlobalMONO['Features'].iloc[actual_index])\n",
    "        #print(MONOfromDataFrame)\n",
    "        #print(\"The result is {}\".format(TF_MONO_result))\n",
    "        #print(\"------------------------------------------------------------\")\n",
    "        #print(j,tf, df_PostGlobalMONO['Global_Mono'].iloc[actual_index], TF_MONO_result)\n",
    "        \n",
    "        temp[0][actual_index] = TF_MONO_result\n",
    "        \n",
    "        # Coverting Temp Array into Data Frame\n",
    "#Modify here 6:\n",
    "    First_Result = pd.DataFrame(temp, columns = features)\n",
    "    First_Result = First_Result.astype(\"float16\")\n",
    "    temp = np.zeros((1,7708), dtype=\"float16\")\n",
    "    \n",
    "    TF_MONO_TABLE = np.append(TF_MONO_TABLE, np.array(First_Result), axis=0)\n",
    "    \n",
    "    First_Result.drop(First_Result.index[:], inplace=True)\n",
    "# appending another dataframe as another row\n",
    "\n",
    "#TF_MONO_TABLE2 = pd.DataFrame(np.ones((1,29523)))\n",
    "\n",
    "#Modify here 7:\n",
    "\n",
    "#TF_MONO_TABLE = pd.DataFrame(Second_Result, columns = features)   \n",
    "TF_MONO_TABLE.shape"
   ]
  },
  {
   "cell_type": "markdown",
   "id": "cb7b6dce",
   "metadata": {},
   "source": [
    "# Save the as numpy array"
   ]
  },
  {
   "cell_type": "code",
   "execution_count": 29,
   "id": "2a9eb54f",
   "metadata": {},
   "outputs": [],
   "source": [
    "TF_MONO_TABLE = TF_MONO_TABLE.astype(\"float16\")\n",
    "\n",
    "np.save(\"Modified_EMO_3_FULL_VALUES.npy\",TF_MONO_TABLE)"
   ]
  },
  {
   "cell_type": "markdown",
   "id": "ee26aa3d",
   "metadata": {},
   "source": [
    "# Clear all values in array and dataframe"
   ]
  },
  {
   "cell_type": "code",
   "execution_count": 30,
   "id": "c52f545a",
   "metadata": {},
   "outputs": [
    {
     "data": {
      "text/plain": [
       "(1, 7708)"
      ]
     },
     "execution_count": 30,
     "metadata": {},
     "output_type": "execute_result"
    }
   ],
   "source": [
    "\n",
    "TF_MONO_TABLE = np.array([])\n",
    "\n",
    "#clear the array\n",
    "temp = np.zeros((1,7708), dtype=\"float16\")\n",
    "temp.shape"
   ]
  },
  {
   "cell_type": "code",
   "execution_count": null,
   "id": "9aa29d9f",
   "metadata": {},
   "outputs": [],
   "source": []
  },
  {
   "cell_type": "code",
   "execution_count": null,
   "id": "62548578",
   "metadata": {},
   "outputs": [],
   "source": []
  },
  {
   "cell_type": "code",
   "execution_count": null,
   "id": "2558e186",
   "metadata": {},
   "outputs": [],
   "source": []
  },
  {
   "cell_type": "code",
   "execution_count": null,
   "id": "3a952180",
   "metadata": {},
   "outputs": [],
   "source": []
  }
 ],
 "metadata": {
  "kernelspec": {
   "display_name": "Python 3 (ipykernel)",
   "language": "python",
   "name": "python3"
  },
  "language_info": {
   "codemirror_mode": {
    "name": "ipython",
    "version": 3
   },
   "file_extension": ".py",
   "mimetype": "text/x-python",
   "name": "python",
   "nbconvert_exporter": "python",
   "pygments_lexer": "ipython3",
   "version": "3.7.5"
  }
 },
 "nbformat": 4,
 "nbformat_minor": 5
}
